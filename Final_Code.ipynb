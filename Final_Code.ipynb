# Import libraries
import gdown  # Import gdown to download files from Google Drive
import pandas as pd  # Import pandas for handling CSV data
import matplotlib.pyplot as plt  # Import matplotlib for plotting
from sklearn.linear_model import LinearRegression  # Import LinearRegression for predictive modeling
import numpy as np  # Import numpy for numerical operations



# Load dataset
# url = "https://drive.google.com/uc?id=14_DCr8ZvyKtdhR_GL-gt7kqoL3xd_-jw"  # Define the Google Drive file URL
# path = "Basic_Data.csv"  # Define the local filename to save the dataset
# url = "https://drive.google.com/file/d/1fYNMdUC0RW7F_7EgIL6tqjHPBYORX1qy/view?usp=sharing"
# path =  "Larger_Data.csv"
# url = "https://drive.google.com/file/d/1xESJW06ki_lhJPyhcyAS8fAQWzHbIP4R/view?usp=drive_link"
# path = "Clustered_Data.csv"
gdown.download(url, output=path, fuzzy=True)  # Download the dataset using gdown



# Read dataset
df = pd.read_csv(path)  # Load the CSV file into a pandas DataFrame
df["Date"] = pd.to_datetime(df["Date"])  # Convert the 'Date' column to datetime format, if it exists



# Plot data
plt.figure(figsize=(10, 5))  # Create a figure with a specific size
plt.scatter(df["Car_Count"], df["Stock_Price"], label="Stock Price", color="blue")  # Scatter plot of car count vs. stock price
plt.xlabel("Number of Cars in Walmart Parking Lot")  # Label for x-axis
plt.ylabel("Walmart Stock Price (USD)")  # Label for y-axis
plt.title("Stock Price vs. Car Count in Walmart Parking Lot")  # Title for the plot



# TODO 1: Crafting the regression model
X = df["Car_Count"].values.reshape(-1, 1)  # Reshape car count data into a 2D array for model input
y = df["Stock_Price"].values  # Extract stock price as the target variable
model = LinearRegression()  # Create a linear regression model
model.fit(X, y)  # Train the model using car count as the predictor and stock price as the target



# Predict stock prices for the line of best fit
X_range = np.linspace(X.min(), X.max(), 100).reshape(-1, 1)  # Generate a range of values for car count
y_pred = model.predict(X_range)  # Predict stock prices using the trained model
plt.plot(X_range, y_pred, color='red', linestyle='dashed', label='Best Fit Line')  # Plot the best fit line
plt.legend()  # Show the legend for the plot
plt.grid()  # Display grid lines on the plot
plt.show()  # Render the plot



# TODO 2: Predict next day's stock price based on estimated car count
future_car_count = int(np.mean(df["Car_Count"].dropna()))  # Compute the average car count, ignoring NaN values
predicted_price = model.predict([[future_car_count]])[0]  # Predict the stock price based on the average car count



# Make trading decision based on predicted price vs. current price
# TODO 3: Fetch the latest price
latest_price = df["Stock_Price"].iloc[-1]  # Get the most recent stock price from the dataset



# TODO 4: Should we buy or sell based on the predicted price vs. current price
decision = "No decision yet"
if predicted_price > latest_price:
  decision = "BUY - Price is predicted to rise."
else:
  decision = "SHORT - Price is predicted to fall."  # Determine whether to buy or short based on predicted movement

print("Current Price: $" + str(int(latest_price)))
print("Predicted Stock Price: $" + str((predicted_price)))
print("Trading Decision: " + decision)  # Print the trading decision
