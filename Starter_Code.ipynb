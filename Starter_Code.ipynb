# Import Libraries
import gdown
import pandas as pd
import matplotlib.pyplot as plt
from sklearn.linear_model import LinearRegression
import numpy as np



# Load dataset
url = "https://drive.google.com/uc?id=14_DCr8ZvyKtdhR_GL-gt7kqoL3xd_-jw"
path = "Basic_Data.csv"
gdown.download(url, path, True)



# Read dataset
df = pd.read_csv(path)
df["Date"] = pd.to_datetime(df["Date"])



# Plot data
plt.figure(figsize=(10, 5))
plt.scatter(df["Car_Count"], df["Stock_Price"], label="Stock Price", color="blue")
plt.xlabel("Number of Cars in Walmart Parking Lot")
plt.ylabel("Walmart Stock Price (USD)")
plt.title("Stock Price vs. Car Count in Walmart Parking Lot")



# TODO 1: Crafting the regression model



# Predict stock prices for the line of best fit
X_range = np.linspace(X.min(), X.max(), 100).reshape(-1, 1)
y_pred = model.predict(X_range)
# plt.plot(X_range, y_pred, color='red', linestyle='dashed', label='Best Fit Line')
plt.legend()
plt.grid()
plt.show()



# TODO 2: Predict next day's stock price based on estimated car count



# Make trading decision based on predicted price vs. current price



# TODO 3: Fetch latest price



# TODO 4: Should we buy or sell based on the predicted price vs. current price
#if ... >,==,< ...:
#  print("buy.../sell...")
#else:
#  print("buy.../sell...")




# WAIT FOR FURTHER INSTRUCTIONS
# url = "https://drive.google.com/file/d/1fYNMdUC0RW7F_7EgIL6tqjHPBYORX1qy/view?usp=sharing"
# path =  "Larger_Data.csv"
# url = "https://drive.google.com/file/d/1xESJW06ki_lhJPyhcyAS8fAQWzHbIP4R/view?usp=drive_link"
# path = "Clustered_Data.csv"
